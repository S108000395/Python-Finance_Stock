{
 "cells": [
  {
   "cell_type": "code",
   "execution_count": null,
   "metadata": {},
   "outputs": [],
   "source": [
    "import time\n",
    "import requests\n",
    "import pandas as pd\n",
    "\n",
    "from io import StringIO\n",
    "from datetime import date\n",
    "\n",
    "#今天日期\n",
    "Date = '20210609'\n",
    "Today = date.today().strftime('%Y-%m-%d')\n",
    "\n",
    "URL = \"https://www.twse.com.tw/exchangeReport/MI_INDEX20?response=html&date=\" + Date\n",
    "\n",
    "headers={\n",
    "    \"User-Agent\": \"Mozilla/5.0 (Windows NT 10.0; Win64; x64) AppleWebKit/537.36 (KHTML, like Gecko) Chrome/88.0.4324.190 Safari/537.36\"\n",
    "}\n",
    "\n",
    "req = requests.get(URL, headers=headers)\n",
    "req.encoding='big5'\n",
    "    \n",
    "dfs= pd.read_html(URL.format())\n",
    "dfs[0].columns = dfs[0].columns.droplevel()\n",
    "\n",
    "New_dfs = dfs[0]\n",
    "New_dfs['Date'] = Today\n",
    "New_dfs['Date'] = pd.to_datetime(New_dfs['Date'])\n",
    "\n",
    "New_csv = New_dfs\n",
    "New_csv.to_csv(Date + '_' + 'Volume.csv', encoding='utf_8_sig')\n",
    "New_csv = pd.read_csv(Date + '_' + 'Volume.csv')\n",
    "\n",
    "time.sleep(5)\n",
    "\n",
    "#印出\n",
    "New_dfs"
   ]
  }
 ],
 "metadata": {
  "kernelspec": {
   "display_name": "Python 3",
   "language": "python",
   "name": "python3"
  },
  "language_info": {
   "codemirror_mode": {
    "name": "ipython",
    "version": 3
   },
   "file_extension": ".py",
   "mimetype": "text/x-python",
   "name": "python",
   "nbconvert_exporter": "python",
   "pygments_lexer": "ipython3",
   "version": "3.7.4"
  }
 },
 "nbformat": 4,
 "nbformat_minor": 2
}
